{
  "nbformat": 4,
  "nbformat_minor": 0,
  "metadata": {
    "colab": {
      "name": "listaFilmes.ipynb",
      "provenance": [],
      "authorship_tag": "ABX9TyMzwBUrN7Q0ZDNVJ7KvOU6D",
      "include_colab_link": true
    },
    "kernelspec": {
      "name": "python3",
      "display_name": "Python 3"
    }
  },
  "cells": [
    {
      "cell_type": "markdown",
      "metadata": {
        "id": "view-in-github",
        "colab_type": "text"
      },
      "source": [
        "<a href=\"https://colab.research.google.com/github/limavanessa/limavanessa.github.io/blob/main/listaFilmes.ipynb\" target=\"_parent\"><img src=\"https://colab.research.google.com/assets/colab-badge.svg\" alt=\"Open In Colab\"/></a>"
      ]
    },
    {
      "cell_type": "code",
      "metadata": {
        "id": "-reblvAhRLaR"
      },
      "source": [
        "class Filme:\r\n",
        "  def __init__(self, filme, genero):\r\n",
        "    self.filme = filme\r\n",
        "    self.genero = genero\r\n",
        "\r\n",
        "class Serie:\r\n",
        "    def __init__(self, serie, genero):\r\n",
        "      self.serie = serie\r\n",
        "      self.genero = genero\r\n",
        "\r\n",
        "\r\n",
        "def incluiItem():\r\n",
        "  opcao = input('Deseja incluir um título? Digite: (A) Filme    (B) Série ')\r\n",
        "  opcao = opcao.upper()\r\n",
        "  return (opcao)\r\n",
        "  if (opcao == 'A'):\r\n",
        "    self.filme = input('O nome do filme é... ')\r\n",
        "    self.filme = filme.upper()\r\n",
        "\r\n",
        "    if (filme not in filmes):\r\n",
        "      self.filmes.append(filme)\r\n",
        "      print('O título \"{}\" foi incluído com sucesso.'.format(filme))\r\n",
        "      print(self.filmes)\r\n",
        "    else:\r\n",
        "      print('O item já consta na lista!!!!!')\r\n",
        "      print(filmes)\r\n",
        "\r\n",
        "  if (opcao == 'B'):\r\n",
        "    serie = input('O nome da série é... ')\r\n",
        "    serie = serie.upper()\r\n",
        "    if (serie not in series):\r\n",
        "      series.append(serie)\r\n",
        "      print('O título \"{}\" foi incluído com sucesso.'.format(serie))\r\n",
        "      print(series)\r\n",
        "    else:\r\n",
        "      print('O item já consta na lista!!!!!')\r\n",
        "      print(series)\r\n",
        "\r\n",
        "incluiItem()\r\n",
        "\r\n",
        "\r\n"
      ],
      "execution_count": null,
      "outputs": []
    }
  ]
}